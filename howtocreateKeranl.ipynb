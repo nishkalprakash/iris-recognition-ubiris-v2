{
 "cells": [
  {
   "cell_type": "code",
   "execution_count": 2,
   "metadata": {},
   "outputs": [
    {
     "data": {
      "text/plain": [
       "array([[0.11111111, 0.11111111, 0.11111111],\n",
       "       [0.11111111, 0.11111111, 0.11111111],\n",
       "       [0.11111111, 0.11111111, 0.11111111]])"
      ]
     },
     "execution_count": 2,
     "metadata": {},
     "output_type": "execute_result"
    }
   ],
   "source": [
    "import numpy as np  \n",
    "kernal_size=3;\n",
    "box_blur_kernal=np.ones((kernal_size,kernal_size))/kernal_size**2;\n",
    "box_blur_kernal"
   ]
  },
  {
   "cell_type": "code",
   "execution_count": 6,
   "metadata": {},
   "outputs": [
    {
     "name": "stdout",
     "output_type": "stream",
     "text": [
      "[[0.00296902 0.01330621 0.02193823 0.01330621 0.00296902]\n",
      " [0.01330621 0.0596343  0.09832033 0.0596343  0.01330621]\n",
      " [0.02193823 0.09832033 0.16210282 0.09832033 0.02193823]\n",
      " [0.01330621 0.0596343  0.09832033 0.0596343  0.01330621]\n",
      " [0.00296902 0.01330621 0.02193823 0.01330621 0.00296902]]\n"
     ]
    }
   ],
   "source": [
    "import cv2\n",
    "\n",
    "# Generate a 5x5 Gaussian blur kernel\n",
    "kernel_size = 5\n",
    "gaussian_kernel = cv2.getGaussianKernel(kernel_size, sigma=1)\n",
    "gaussian_kernel = gaussian_kernel * gaussian_kernel.T  # 2D kernel\n",
    "print(gaussian_kernel)\n"
   ]
  },
  {
   "cell_type": "markdown",
   "metadata": {},
   "source": [
    "### **How to Generate a 2D Gaussian Blur Kernel**\n",
    "\n",
    "This code generates a **2D Gaussian blur kernel** using OpenCV's `cv2.getGaussianKernel` function. Here's a detailed explanation:\n",
    "\n",
    "---\n",
    "\n",
    "### **Code Breakdown**\n",
    "\n",
    "#### 1. **`cv2.getGaussianKernel(kernel_size, sigma=1)`**\n",
    "- **Purpose**: Creates a 1D Gaussian kernel.\n",
    "- **Arguments**:\n",
    "  | Argument         | Description                                                                                   |\n",
    "  |------------------|-----------------------------------------------------------------------------------------------|\n",
    "  | `kernel_size`    | Size of the kernel (e.g., `5` for a \\(5 \\times 5\\) kernel). Must be an odd integer.            |\n",
    "  | `sigma`          | Standard deviation of the Gaussian distribution. Controls the spread of the blur.             |\n",
    "\n",
    "- The function returns a column vector representing the 1D Gaussian kernel.\n",
    "\n",
    "\n",
    "---\n",
    "\n",
    "#### 2. **`gaussian_kernel @ gaussian_kernel.T`**\n",
    "- **Purpose**: Converts the 1D kernel into a **2D Gaussian kernel**.\n",
    "- **How it works**:\n",
    "  - The matrix multiplication (`@`) of the 1D kernel with its transpose creates a 2D kernel.\n",
    "  - This ensures the 2D Gaussian distribution is symmetric.\n",
    "\n",
    "\n",
    "---\n",
    "\n",
    "#### 3. **`print(gaussian_kernel)`**\n",
    "- Prints the generated **2D Gaussian kernel** to the console.\n",
    "\n",
    "---\n",
    "\n",
    "### **Key Features of a Gaussian Kernel**\n",
    "- **Symmetry**: Both rows and columns are symmetric around the center.\n",
    "- **Normalization**: The sum of all elements equals 1. This ensures the overall brightness of the image remains unchanged.\n",
    "- **Effect of `sigma`**:\n",
    "  - **Small `sigma`**: The kernel is more concentrated around the center (sharp blur).\n",
    "  - **Large `sigma`**: The kernel spreads out (stronger blur).\n",
    "\n",
    "---\n",
    "\n",
    "\n",
    "\n",
    "### **Usage**\n",
    "This 2D Gaussian kernel can be used for:\n",
    "1. **Gaussian Blurring**:\n",
    "   - Smoothens the image while preserving edges better than a box blur.\n",
    "2. **Weighting in Image Processing**:\n",
    "   - Used in algorithms like Gaussian pyramids, edge detection, etc.\n"
   ]
  },
  {
   "cell_type": "code",
   "execution_count": 14,
   "metadata": {},
   "outputs": [
    {
     "data": {
      "text/plain": [
       "array([[0.        , 0.        , 0.        , 0.        , 0.        ,\n",
       "        0.        , 0.        , 0.        , 0.        ],\n",
       "       [0.        , 0.        , 0.        , 0.        , 0.        ,\n",
       "        0.        , 0.        , 0.        , 0.        ],\n",
       "       [0.        , 0.        , 0.        , 0.        , 0.        ,\n",
       "        0.        , 0.        , 0.        , 0.        ],\n",
       "       [0.        , 0.        , 0.        , 0.        , 0.        ,\n",
       "        0.        , 0.        , 0.        , 0.        ],\n",
       "       [0.11111111, 0.11111111, 0.11111111, 0.11111111, 0.11111111,\n",
       "        0.11111111, 0.11111111, 0.11111111, 0.11111111],\n",
       "       [0.        , 0.        , 0.        , 0.        , 0.        ,\n",
       "        0.        , 0.        , 0.        , 0.        ],\n",
       "       [0.        , 0.        , 0.        , 0.        , 0.        ,\n",
       "        0.        , 0.        , 0.        , 0.        ],\n",
       "       [0.        , 0.        , 0.        , 0.        , 0.        ,\n",
       "        0.        , 0.        , 0.        , 0.        ],\n",
       "       [0.        , 0.        , 0.        , 0.        , 0.        ,\n",
       "        0.        , 0.        , 0.        , 0.        ]])"
      ]
     },
     "execution_count": 14,
     "metadata": {},
     "output_type": "execute_result"
    }
   ],
   "source": [
    "# blur kernal\n",
    "kernal_size=9;\n",
    "motion_blur_kernal=np.zeros((kernal_size, kernal_size))\n",
    "# print(motion_blur_kernal)\n",
    "motion_blur_kernal[int((kernal_size-1)/2),:]=np.ones(kernal_size)\n",
    "# print(motion_blur_kernal)\n",
    "motion_blur_kernal/=kernal_size;\n",
    "'''is performing normalization on the\n",
    "motion_blur_kernel by dividing each element\n",
    "in the kernel by the kernel_size. This ensures\n",
    "that the sum of all elements in the kernel is \n",
    "scaled appropriately, which is important to\n",
    "maintain the brightness of the image after applying the\n",
    "kernel during the convolution process.'''\n",
    "motion_blur_kernal"
   ]
  },
  {
   "cell_type": "code",
   "execution_count": null,
   "metadata": {},
   "outputs": [],
   "source": [
    "def apply_low_light(image, gamma=0.3):\n",
    "    \"\"\"\n",
    "    Düşük ışık koşullarını simüle etmek için gamma düzeltmesi uygula.\n",
    "    \"\"\"\n",
    "    inv_gamma = 1.0 / gamma\n",
    "    table = np.array([((i / 255.0) ** inv_gamma) * 255 for i in range(256)]).astype(\"uint8\")\n",
    "    low_light_image = cv2.LUT(image, table)\n",
    "    return low_light_image\n"
   ]
  },
  {
   "cell_type": "code",
   "execution_count": 16,
   "metadata": {},
   "outputs": [
    {
     "name": "stdout",
     "output_type": "stream",
     "text": [
      "[  0   0   0   0   0   0   0   0   0   0   0   0   0   0   0   0   0   0\n",
      "   0   0   0   0   0   0   0   0   0   0   0   0   0   0   0   0   0   0\n",
      "   0   0   0   0   0   0   0   0   0   0   0   0   0   1   1   1   1   1\n",
      "   1   1   1   1   1   1   2   2   2   2   2   2   2   2   3   3   3   3\n",
      "   3   3   4   4   4   4   4   5   5   5   5   6   6   6   6   7   7   7\n",
      "   7   8   8   8   9   9   9  10  10  10  11  11  12  12  12  13  13  14\n",
      "  14  15  15  15  16  16  17  17  18  18  19  20  20  21  21  22  23  23\n",
      "  24  24  25  26  26  27  28  29  29  30  31  32  32  33  34  35  36  37\n",
      "  37  38  39  40  41  42  43  44  45  46  47  48  49  50  51  52  53  55\n",
      "  56  57  58  59  60  62  63  64  66  67  68  69  71  72  74  75  76  78\n",
      "  79  81  82  84  85  87  89  90  92  93  95  97  99 100 102 104 106 107\n",
      " 109 111 113 115 117 119 121 123 125 127 129 131 133 135 137 139 142 144\n",
      " 146 148 151 153 155 158 160 163 165 168 170 173 175 178 180 183 186 188\n",
      " 191 194 196 199 202 205 208 211 214 217 220 223 226 229 232 235 238 241\n",
      " 245 248 251 255]\n"
     ]
    }
   ],
   "source": [
    "gamma=0.3\n",
    "inv_gamma=1/gamma\n",
    "# here if gamma greater thatn 1 then image becme darker\n",
    "table=np.array([((i/255)**inv_gamma )*255 for i in range(256)]).astype(\"uint8\")\n",
    "\n"
   ]
  },
  {
   "cell_type": "markdown",
   "metadata": {},
   "source": [
    "### **`cv2.LUT()` Function**\n",
    "\n",
    "#### **Purpose**\n",
    "- `cv2.LUT()` is used to apply a lookup table (LUT) to an image for pixel-wise transformation. It replaces each pixel value in the input image with a corresponding value from the LUT.\n",
    "\n",
    "---\n",
    "\n",
    "#### **Arguments**\n",
    "| Argument   | Type             | Description                                                                 |\n",
    "|------------|------------------|-----------------------------------------------------------------------------|\n",
    "| `image`    | `numpy.ndarray`  | Input image to which the transformation is applied.                        |\n",
    "| `table`    | `numpy.ndarray`  | Lookup table containing the new values for pixel intensities (size = 256). |\n",
    "\n",
    "---\n",
    "\n",
    "#### **Return Type**\n",
    "- **`numpy.ndarray`**: The transformed image with the same dimensions as the input image, where each pixel value is replaced based on the lookup table.\n",
    "\n",
    "---\n",
    "\n",
    "#### **What It Does**\n",
    "1. Takes an image and a lookup table as input.\n",
    "2. For each pixel in the image:\n",
    "   - Finds its intensity value.\n",
    "   - Replaces it with the corresponding value from the lookup table.\n",
    "3. Returns the transformed image.\n",
    "\n",
    "---\n",
    "\n",
    "#### **Example**\n",
    "```python\n",
    "import cv2\n",
    "import numpy as np\n",
    "\n",
    "# Create a lookup table (e.g., invert pixel values)\n",
    "lookup_table = np.array([255 - i for i in range(256)], dtype=\"uint8\")\n",
    "\n",
    "# Load an image\n",
    "image = cv2.imread(\"example.jpg\")\n",
    "\n",
    "# Apply the lookup table\n",
    "transformed_image = cv2.LUT(image, lookup_table)\n",
    "\n",
    "# Display the result\n",
    "cv2.imshow(\"Transformed Image\", transformed_image)\n",
    "cv2.waitKey(0)\n",
    "cv2.destroyAllWindows()\n",
    "```\n",
    "\n",
    "---\n",
    "\n"
   ]
  },
  {
   "cell_type": "code",
   "execution_count": null,
   "metadata": {},
   "outputs": [],
   "source": []
  }
 ],
 "metadata": {
  "kernelspec": {
   "display_name": "Python 3",
   "language": "python",
   "name": "python3"
  },
  "language_info": {
   "codemirror_mode": {
    "name": "ipython",
    "version": 3
   },
   "file_extension": ".py",
   "mimetype": "text/x-python",
   "name": "python",
   "nbconvert_exporter": "python",
   "pygments_lexer": "ipython3",
   "version": "3.11.9"
  }
 },
 "nbformat": 4,
 "nbformat_minor": 2
}
