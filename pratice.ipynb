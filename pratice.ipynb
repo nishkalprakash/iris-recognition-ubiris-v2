{
 "cells": [
  {
   "cell_type": "code",
   "execution_count": 4,
   "metadata": {},
   "outputs": [
    {
     "name": "stderr",
     "output_type": "stream",
     "text": [
      "Processing: 100%|██████████| 100/100 [00:10<00:00,  9.77it/s]\n"
     ]
    }
   ],
   "source": [
    "from tqdm import tqdm\n",
    "import time\n",
    "\n",
    "for i in tqdm(range(100), desc=\"Processing\"):\n",
    "    time.sleep(0.1)  # Simulate work\n"
   ]
  },
  {
   "cell_type": "markdown",
   "metadata": {},
   "source": [
    "- iterable: The iterable object (e.g., list, range, generator) to loop over.\n",
    "- desc: A custom string that describes the progress bar (e.g., \"Downloading\").\n",
    "- total: Total number of iterations (useful for non-iterable operations or generators).\n",
    "- unit: Unit of each iteration (e.g., \"files\", \"items\", \"MB\").\n"
   ]
  },
  {
   "cell_type": "code",
   "execution_count": 6,
   "metadata": {},
   "outputs": [],
   "source": [
    "import cv2 as cv\n",
    "image=cv.imread(\"./image2.jpg\");\n",
    "cv.imshow(\"originamImage\",image);\n",
    "cv.waitKey(400);\n",
    "cv.destroyAllWindows()\n"
   ]
  },
  {
   "cell_type": "markdown",
   "metadata": {},
   "source": [
    "### Explanation of OpenCV Functions and Their Arguments\n",
    "\n",
    "Here is a detailed breakdown of the OpenCV functions used in your code:\n",
    "\n",
    "| **Function**        | **Description**                                                                                           | **Arguments**                                                                                      | **Returns**                                                                                  |\n",
    "|---------------------|-----------------------------------------------------------------------------------------------------------|----------------------------------------------------------------------------------------------------|---------------------------------------------------------------------------------------------|\n",
    "| `cv.imread()`       | Reads an image from a specified file.                                                                    | `filename` (str): Path to the image file.<br>`flags` (int, optional): How the image should be read. | A numpy array representing the image. Returns `None` if the image file cannot be read.      |\n",
    "| `cv.imshow()`       | Displays an image in a window.                                                                           | `winname` (str): Name of the window.<br>`mat` (numpy array): Image to be displayed.               | None                                                                                        |\n",
    "| `cv.waitKey()`      | Waits for a key press for a specified amount of time.                                                    | `delay` (int): Time in milliseconds to wait for a key press. Use `0` for an infinite wait.        | ASCII code of the pressed key, or `-1` if no key is pressed within the delay time.          |\n",
    "| `cv.destroyAllWindows()` | Closes all OpenCV windows currently open.                                                             | None                                                                                               | None                                                                                        |\n",
    "\n",
    "\n",
    "\n",
    "### Notes:\n",
    "1. **`cv.imread()` Flags**:\n",
    "   - `cv.IMREAD_COLOR` (default): Loads a color image.\n",
    "   - `cv.IMREAD_GRAYSCALE`: Loads the image in grayscale.\n",
    "   - `cv.IMREAD_UNCHANGED`: Loads the image including alpha transparency.\n",
    "\n",
    "2. **`cv.imshow()` Requirements**:\n",
    "   - The function creates a GUI window, so it needs a display server (doesn't work on headless systems).\n",
    "\n",
    "3. **`cv.waitKey()` Special Case**:\n",
    "   - If `delay=0`, it waits indefinitely until a key is pressed.\n",
    "\n",
    "Let me know if you want additional details or examples!"
   ]
  },
  {
   "cell_type": "code",
   "execution_count": null,
   "metadata": {},
   "outputs": [],
   "source": []
  },
  {
   "cell_type": "markdown",
   "metadata": {},
   "source": [
    "### Explanation: Applying Gaussian Blur with OpenCV\n",
    "\n",
    "---\n",
    "\n",
    "#### **Code Breakdown**\n",
    "\n",
    "1. **`cv2.GaussianBlur(image, (15, 15), 0)`**\n",
    "   - **Purpose**: Applies a **Gaussian blur** to the input image to smooth it and reduce noise.\n",
    "   - **Arguments**:\n",
    "     | Argument      | Description                                                                                 |\n",
    "     |---------------|---------------------------------------------------------------------------------------------|\n",
    "     | `image`       | The input image (as a numpy array) to which the blur will be applied.                       |\n",
    "     | `(15, 15)`    | The size of the Gaussian kernel. Larger values result in more blur.                        |\n",
    "     | `0`           | The standard deviation in the X direction. A value of `0` means it is calculated automatically based on the kernel size. |\n",
    "   - **Returns**: A blurred version of the input image as a numpy array.\n",
    "\n",
    "\n",
    "---\n",
    "\n",
    "#### **Gaussian Blur Explanation**\n",
    "A Gaussian blur uses a Gaussian function to calculate the transformation for each pixel. It smooths the image by averaging pixel values, with closer pixels having more influence than distant ones. The kernel size (e.g., `(15, 15)`) determines the extent of the blur.\n",
    "\n"
   ]
  },
  {
   "cell_type": "markdown",
   "metadata": {},
   "source": [
    "### **How the Gaussian Function Works Behind the Scenes**\n",
    "\n",
    "The Gaussian function is a mathematical function used to apply a smoothing (blurring) effect to an image. It reduces noise and details by averaging pixel values in a way that gives more weight to closer pixels and less weight to distant ones.\n",
    "\n",
    "### **Steps in Gaussian Blurring**\n",
    "\n",
    "#### 1. **Generate the Gaussian Kernel**\n",
    "   - The kernel is a small matrix (e.g., \\( 3 * 3 \\), \\( 5 * 5 \\), or \\( 15 * 15 \\)) filled with weights calculated using the Gaussian function.\n",
    "   - For a \\( k *k \\) kernel, the center of the kernel corresponds to \\( (0, 0) \\), and other positions correspond to their respective distances \\((x, y)\\).\n",
    "\n",
    "   **Example of a \\( 5 * 5 \\) Gaussian kernel (simplified):**\n",
    "\n",
    "   ```\n",
    "   1  4  7  4  1\n",
    "   4 16 26 16  4\n",
    "   7 26 41 26  7\n",
    "   4 16 26 16  4\n",
    "   1  4  7  4  1\n",
    "   ```\n",
    "\n",
    "   - The center of the kernel has the highest weight.\n",
    "   - The weights decrease as the distance from the center increases.\n",
    "\n",
    "#### 2. **Normalize the Kernel**\n",
    "   - To ensure that the output image doesn't become overly bright or dark, the kernel is normalized:\n",
    "     \\[\n",
    "     \\text{Normalized Kernel Value} = \\frac{\\text{Kernel Value}}{\\text{Sum of All Kernel Values}}\n",
    "     \\]\n",
    "\n",
    "   For the above example:\n",
    "   ```\n",
    "   Normalized Kernel:\n",
    "   0.003  0.013  0.021  0.013  0.003\n",
    "   0.013  0.053  0.085  0.053  0.013\n",
    "   0.021  0.085  0.136  0.085  0.021\n",
    "   0.013  0.053  0.085  0.053  0.013\n",
    "   0.003  0.013  0.021  0.013  0.003\n",
    "   ```\n",
    "\n",
    "#### 3. **Convolution Operation**\n",
    "   - The kernel is applied to the image using **convolution**:\n",
    "     - Place the kernel on top of a pixel (center of the kernel over the pixel).\n",
    "     - Multiply each kernel value by the corresponding pixel value in the image.\n",
    "     - Sum all the products.\n",
    "     - Replace the original pixel value with this sum.\n",
    "   - Repeat for every pixel in the image.\n",
    "\n",
    "---\n",
    "\n",
    "### **Effect of Standard Deviation (\\( \\sigma \\))**\n",
    "\n",
    "- \\( \\sigma \\) controls how much the kernel spreads:\n",
    "  - **Small \\( \\sigma \\)**: Sharp transitions (less blur).\n",
    "  - **Large \\( \\sigma \\)**: Smooth transitions (more blur).\n",
    "\n",
    "---\n",
    "\n",
    "### **Example Visualization**\n",
    "\n",
    "For a \\( 3 \\times 3 \\) kernel with \\( \\sigma = 1 \\):\n",
    "- **Kernel**:\n",
    "  \\[\n",
    "  \\begin{bmatrix}\n",
    "  0.075 & 0.123 & 0.075 \\\\\n",
    "  0.123 & 0.204 & 0.123 \\\\\n",
    "  0.075 & 0.123 & 0.075\n",
    "  \\end{bmatrix}\n",
    "  \\]\n",
    "\n",
    "Applying this kernel to a small region in an image:\n",
    "- **Input Pixels**:\n",
    "  \\[\n",
    "  \\begin{bmatrix}\n",
    "  100 & 150 & 200 \\\\\n",
    "  120 & 180 & 220 \\\\\n",
    "  140 & 210 & 240\n",
    "  \\end{bmatrix}\n",
    "  \\]\n",
    "\n",
    "- After applying the kernel, the center pixel value might change to:\n",
    "  \\[\n",
    "  0.075(100) + 0.123(150) + ... + 0.075(240) = 175\n",
    "  \\]\n",
    "\n",
    "The resulting image will be smoother.\n",
    "\n",
    "---\n",
    "\n",
    "### **Advantages of Gaussian Blurring**\n",
    "1. Reduces image noise while preserving edges better than a simple box filter.\n",
    "2. Prepares images for further processing, like edge detection.\n",
    "\n",
    "---\n",
    "\n",
    "Let me know if you'd like to dive deeper into any part!\n"
   ]
  },
  {
   "cell_type": "code",
   "execution_count": null,
   "metadata": {},
   "outputs": [],
   "source": []
  },
  {
   "cell_type": "code",
   "execution_count": null,
   "metadata": {},
   "outputs": [],
   "source": []
  },
  {
   "cell_type": "code",
   "execution_count": 1,
   "metadata": {},
   "outputs": [
    {
     "name": "stderr",
     "output_type": "stream",
     "text": [
      "Processing: 100%|██████████| 100/100 [00:10<00:00,  9.64it/s]\n"
     ]
    }
   ],
   "source": []
  },
  {
   "cell_type": "code",
   "execution_count": 2,
   "metadata": {},
   "outputs": [
    {
     "name": "stderr",
     "output_type": "stream",
     "text": [
      "100%|██████████| 100/100 [00:00<00:00, 41245.98it/s]\n"
     ]
    },
    {
     "data": {
      "text/plain": [
       "0        0\n",
       "1        1\n",
       "2        4\n",
       "3        9\n",
       "4       16\n",
       "      ... \n",
       "95    9025\n",
       "96    9216\n",
       "97    9409\n",
       "98    9604\n",
       "99    9801\n",
       "Length: 100, dtype: int64"
      ]
     },
     "execution_count": 2,
     "metadata": {},
     "output_type": "execute_result"
    }
   ],
   "source": [
    "import pandas as pd\n",
    "from tqdm import tqdm\n",
    "tqdm.pandas()\n",
    "\n",
    "data = pd.Series(range(100))\n",
    "data.progress_apply(lambda x: x ** 2)\n"
   ]
  },
  {
   "cell_type": "code",
   "execution_count": 3,
   "metadata": {},
   "outputs": [
    {
     "name": "stderr",
     "output_type": "stream",
     "text": [
      "Downloading: 1KB [00:00, ?KB/s]\n"
     ]
    }
   ],
   "source": [
    "import requests\n",
    "from tqdm import tqdm\n",
    "\n",
    "url = \"https://example.com/large_file\"\n",
    "response = requests.get(url, stream=True)\n",
    "with open(\"large_file\", \"wb\") as file:\n",
    "    for chunk in tqdm(response.iter_content(chunk_size=8192), desc=\"Downloading\", unit=\"KB\"):\n",
    "        file.write(chunk)\n"
   ]
  },
  {
   "cell_type": "code",
   "execution_count": null,
   "metadata": {},
   "outputs": [],
   "source": []
  },
  {
   "cell_type": "code",
   "execution_count": null,
   "metadata": {},
   "outputs": [],
   "source": []
  },
  {
   "cell_type": "code",
   "execution_count": null,
   "metadata": {},
   "outputs": [],
   "source": []
  },
  {
   "cell_type": "code",
   "execution_count": null,
   "metadata": {},
   "outputs": [],
   "source": []
  },
  {
   "cell_type": "code",
   "execution_count": null,
   "metadata": {},
   "outputs": [],
   "source": []
  },
  {
   "cell_type": "code",
   "execution_count": null,
   "metadata": {},
   "outputs": [],
   "source": []
  },
  {
   "cell_type": "code",
   "execution_count": null,
   "metadata": {},
   "outputs": [],
   "source": []
  },
  {
   "cell_type": "code",
   "execution_count": null,
   "metadata": {},
   "outputs": [],
   "source": []
  },
  {
   "cell_type": "code",
   "execution_count": null,
   "metadata": {},
   "outputs": [],
   "source": []
  },
  {
   "cell_type": "code",
   "execution_count": null,
   "metadata": {},
   "outputs": [],
   "source": []
  }
 ],
 "metadata": {
  "kernelspec": {
   "display_name": "Python 3",
   "language": "python",
   "name": "python3"
  },
  "language_info": {
   "codemirror_mode": {
    "name": "ipython",
    "version": 3
   },
   "file_extension": ".py",
   "mimetype": "text/x-python",
   "name": "python",
   "nbconvert_exporter": "python",
   "pygments_lexer": "ipython3",
   "version": "3.11.9"
  }
 },
 "nbformat": 4,
 "nbformat_minor": 2
}
