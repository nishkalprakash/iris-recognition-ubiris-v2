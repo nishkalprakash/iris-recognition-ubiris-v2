{
 "cells": [
  {
   "cell_type": "code",
   "execution_count": 1,
   "metadata": {},
   "outputs": [],
   "source": [
    "import os\n",
    "import sys"
   ]
  },
  {
   "cell_type": "code",
   "execution_count": 3,
   "metadata": {},
   "outputs": [
    {
     "data": {
      "text/plain": [
       "'\\nPurpose: Creates the output folder (output_folder) if it doesn’t already exist.\\nParameters:\\noutput_folder: Path of the directory to create.\\nexist_ok=True: Ensures no error is raised if the folder already exists.\\n'"
      ]
     },
     "execution_count": 3,
     "metadata": {},
     "output_type": "execute_result"
    }
   ],
   "source": [
    "# creating directories\n",
    "os.makedirs(\"./learn\",exist_ok=True)\n",
    "'''\n",
    "Purpose: Creates the output folder (output_folder) if it doesn’t already exist.\n",
    "Parameters:\n",
    "output_folder: Path of the directory to create.\n",
    "exist_ok=True: Ensures no error is raised if the folder already exists.\n",
    "'''\n"
   ]
  },
  {
   "cell_type": "code",
   "execution_count": 6,
   "metadata": {},
   "outputs": [
    {
     "data": {
      "text/plain": [
       "[]"
      ]
     },
     "execution_count": 6,
     "metadata": {},
     "output_type": "execute_result"
    }
   ],
   "source": [
    "os.listdir(\"./learn\")\n",
    "# list all the files inside the directory "
   ]
  },
  {
   "cell_type": "code",
   "execution_count": 16,
   "metadata": {},
   "outputs": [],
   "source": [
    "os.listdir(\"./learn\") #return all the file and forlder inside the directory\n",
    "os.getcwd() #to get current working directory\n",
    "os.chdir(\"c:/Users/hp/Desktop/today_1/iris-recognition-ubiris-v2\")\n",
    "os.mkdir(\"./born\")\n",
    "\n",
    "\n",
    "\n",
    "\n",
    "\n"
   ]
  },
  {
   "cell_type": "code",
   "execution_count": 17,
   "metadata": {},
   "outputs": [
    {
     "name": "stdout",
     "output_type": "stream",
     "text": [
      "./for\\1.txt\n"
     ]
    }
   ],
   "source": [
    "directory=\"./for\"\n",
    "file=\"1.txt\"\n",
    "filepath=os.path.join(directory,file)\n",
    "print(filepath)"
   ]
  },
  {
   "cell_type": "code",
   "execution_count": 18,
   "metadata": {},
   "outputs": [
    {
     "name": "stdout",
     "output_type": "stream",
     "text": [
      "parent_folder\\child_folder\\file.txt\n"
     ]
    }
   ],
   "source": [
    "base_dir = \"parent_folder\"\n",
    "sub_dir = \"child_folder\"\n",
    "file_name = \"file.txt\"\n",
    "\n",
    "full_path = os.path.join(base_dir, sub_dir, file_name)\n",
    "print(full_path)  # Output: \"parent_folder/child_folder/file.txt\"\n"
   ]
  },
  {
   "cell_type": "code",
   "execution_count": 20,
   "metadata": {},
   "outputs": [
    {
     "data": {
      "text/plain": [
       "'parent_folder\\\\child_folder\\\\file.txt'"
      ]
     },
     "execution_count": 20,
     "metadata": {},
     "output_type": "execute_result"
    }
   ],
   "source": [
    "# Manual path creation (can cause issues on Windows)\n",
    "file_path = \"parent_folder/child_folder/file.txt\"\n",
    "\n",
    "# Cross-platform solution\n",
    "file_path = os.path.join(\"parent_folder\", \"child_folder\", \"file.txt\")\n",
    "file_path\n"
   ]
  },
  {
   "cell_type": "code",
   "execution_count": 21,
   "metadata": {},
   "outputs": [
    {
     "data": {
      "text/plain": [
       "'/absolute/file.txt'"
      ]
     },
     "execution_count": 21,
     "metadata": {},
     "output_type": "execute_result"
    }
   ],
   "source": [
    "os.path.join(\"/absolute/path\", \"sub_folder\", \"file.txt\")\n",
    "# Output: \"/absolute/path/sub_folder/file.txt\"\n",
    "\n",
    "os.path.join(\"relative/path\", \"/absolute/file.txt\")\n",
    "# Output: \"/absolute/file.txt\" (prior components ignored)\n"
   ]
  },
  {
   "cell_type": "code",
   "execution_count": 22,
   "metadata": {},
   "outputs": [
    {
     "name": "stdout",
     "output_type": "stream",
     "text": [
      "images\\image1.tiff\n",
      "images\\image2.tiff\n",
      "images\\image3.tiff\n"
     ]
    }
   ],
   "source": [
    "import os\n",
    "\n",
    "folder = \"images\"\n",
    "file_names = [\"image1.tiff\", \"image2.tiff\", \"image3.tiff\"]\n",
    "\n",
    "for file_name in file_names:\n",
    "    full_path = os.path.join(folder, file_name)\n",
    "    print(full_path)\n"
   ]
  },
  {
   "cell_type": "code",
   "execution_count": 24,
   "metadata": {},
   "outputs": [],
   "source": [
    "import os\n",
    "\n",
    "input_folder = \"./learn\"\n",
    "for file_name in os.listdir(input_folder):\n",
    "    full_path = os.path.join(input_folder, file_name)\n",
    "    print(f\"Processing file: {full_path}\")\n"
   ]
  },
  {
   "cell_type": "code",
   "execution_count": 25,
   "metadata": {},
   "outputs": [
    {
     "name": "stdout",
     "output_type": "stream",
     "text": [
      "project\\data\\processed\n"
     ]
    }
   ],
   "source": [
    "import os\n",
    "\n",
    "base_dir = \"project\"\n",
    "nested_dir = os.path.join(base_dir, \"data\", \"processed\")\n",
    "\n",
    "print(nested_dir)\n",
    "# Output: \"project/data/processed\"\n"
   ]
  },
  {
   "cell_type": "markdown",
   "metadata": {},
   "source": [
    "### **Important File Operations in Python**\n",
    "\n",
    "This guide covers essential file and directory operations using Python's `os` and `shutil` modules.\n",
    "\n",
    "---\n",
    "\n",
    "### **1. Checking if a File or Directory Exists**\n",
    "\n",
    "#### **Check if a File Exists**\n",
    "```python\n",
    "import os\n",
    "\n",
    "file_path = \"example.txt\"\n",
    "if os.path.isfile(file_path):\n",
    "    print(f\"{file_path} exists and is a file.\")\n",
    "else:\n",
    "    print(f\"{file_path} does not exist or is not a file.\")\n",
    "```\n",
    "\n",
    "#### **Check if a Directory Exists**\n",
    "```python\n",
    "directory_path = \"example_folder\"\n",
    "if os.path.isdir(directory_path):\n",
    "    print(f\"{directory_path} exists and is a directory.\")\n",
    "else:\n",
    "    print(f\"{directory_path} does not exist or is not a directory.\")\n",
    "```\n",
    "\n",
    "---\n",
    "\n",
    "### **2. Creating a New File**\n",
    "```python\n",
    "file_path = \"new_file.txt\"\n",
    "with open(file_path, \"w\") as file:\n",
    "    pass  # Creates an empty file\n",
    "print(f\"{file_path} created successfully.\")\n",
    "```\n",
    "\n",
    "---\n",
    "\n",
    "### **3. Deleting Files and Directories**\n",
    "\n",
    "#### **Delete a File**\n",
    "```python\n",
    "import os\n",
    "\n",
    "file_path = \"example.txt\"\n",
    "if os.path.exists(file_path):\n",
    "    os.remove(file_path)\n",
    "    print(f\"{file_path} deleted.\")\n",
    "else:\n",
    "    print(f\"{file_path} does not exist.\")\n",
    "```\n",
    "\n",
    "#### **Delete an Empty Directory**\n",
    "```python\n",
    "directory_path = \"example_folder\"\n",
    "if os.path.exists(directory_path):\n",
    "    os.rmdir(directory_path)  # Works only for empty directories\n",
    "    print(f\"{directory_path} deleted.\")\n",
    "else:\n",
    "    print(f\"{directory_path} does not exist.\")\n",
    "```\n",
    "\n",
    "#### **Delete a Directory with Contents**\n",
    "```python\n",
    "import shutil\n",
    "\n",
    "directory_path = \"example_folder\"\n",
    "if os.path.exists(directory_path):\n",
    "    shutil.rmtree(directory_path)  # Deletes directory and all contents\n",
    "    print(f\"{directory_path} and its contents deleted.\")\n",
    "else:\n",
    "    print(f\"{directory_path} does not exist.\")\n",
    "```\n",
    "\n",
    "---\n",
    "\n",
    "### **4. Renaming or Moving Files**\n",
    "\n",
    "#### **Rename a File**\n",
    "```python\n",
    "os.rename(\"old_name.txt\", \"new_name.txt\")\n",
    "```\n",
    "\n",
    "#### **Move a File to Another Directory**\n",
    "```python\n",
    "os.rename(\"example.txt\", \"new_folder/example.txt\")\n",
    "```\n",
    "\n",
    "---\n",
    "\n",
    "### **5. Copying Files and Directories**\n",
    "\n",
    "#### **Copy a File**\n",
    "```python\n",
    "import shutil\n",
    "\n",
    "shutil.copy(\"source_file.txt\", \"destination_file.txt\")\n",
    "```\n",
    "\n",
    "#### **Copy a Directory**\n",
    "```python\n",
    "shutil.copytree(\"source_folder\", \"destination_folder\")\n",
    "```\n",
    "\n",
    "---\n",
    "\n",
    "### **6. Getting File/Directory Information**\n",
    "\n",
    "#### **File Size**\n",
    "```python\n",
    "file_path = \"example.txt\"\n",
    "if os.path.isfile(file_path):\n",
    "    size = os.path.getsize(file_path)\n",
    "    print(f\"File size: {size} bytes\")\n",
    "```\n",
    "\n",
    "#### **Last Modification Time**\n",
    "```python\n",
    "import time\n",
    "\n",
    "file_path = \"example.txt\"\n",
    "if os.path.exists(file_path):\n",
    "    mod_time = os.path.getmtime(file_path)\n",
    "    print(f\"Last modified: {time.ctime(mod_time)}\")\n",
    "```\n",
    "\n",
    "---\n",
    "\n",
    "### **7. Traversing Directories**\n",
    "\n",
    "#### **Example: Print All Files in a Directory and Subdirectories**\n",
    "```python\n",
    "for root, dirs, files in os.walk(\"example_folder\"):\n",
    "    print(f\"Directory: {root}\")\n",
    "    print(f\"Subdirectories: {dirs}\")\n",
    "    print(f\"Files: {files}\")\n",
    "```\n",
    "\n",
    "---\n",
    "\n",
    "### **8. Reading and Writing to Files**\n",
    "\n",
    "#### **Reading a File**\n",
    "```python\n",
    "with open(\"example.txt\", \"r\") as file:\n",
    "    content = file.read()\n",
    "    print(content)\n",
    "```\n",
    "\n",
    "#### **Writing to a File**\n",
    "```python\n",
    "with open(\"example.txt\", \"w\") as file:\n",
    "    file.write(\"Hello, World!\")\n",
    "```\n",
    "\n",
    "#### **Appending to a File**\n",
    "```python\n",
    "with open(\"example.txt\", \"a\") as file:\n",
    "    file.write(\"\\nAppended text.\")\n",
    "```\n",
    "\n",
    "---\n",
    "\n",
    "### **9. File Path Manipulation**\n",
    "\n",
    "#### **Get File Name and Extension**\n",
    "```python\n",
    "file_path = \"folder/example.txt\"\n",
    "file_name = os.path.basename(file_path)  # Output: \"example.txt\"\n",
    "file_extension = os.path.splitext(file_path)[1]  # Output: \".txt\"\n",
    "```\n",
    "\n",
    "#### **Get Directory Name**\n",
    "```python\n",
    "directory = os.path.dirname(file_path)  # Output: \"folder\"\n",
    "```\n",
    "\n",
    "#### **Check Absolute Path**\n",
    "```python\n",
    "absolute_path = os.path.abspath(file_path)\n",
    "print(f\"Absolute Path: {absolute_path}\")\n",
    "```\n",
    "\n",
    "---\n",
    "\n",
    "### **Summary of File Operations**\n",
    "| **Operation**               | **Function**                       | **Purpose**                            |\n",
    "|-----------------------------|-------------------------------------|----------------------------------------|\n",
    "| **Check existence**          | `os.path.exists()`                 | Check if a file or directory exists.   |\n",
    "| **List files**               | `os.listdir()` / `glob.glob()`     | Retrieves files from a directory.      |\n",
    "| **Delete file**              | `os.remove()`                      | Deletes a specific file.               |\n",
    "| **Delete directory**         | `os.rmdir()` / `shutil.rmtree()`   | Deletes an empty or non-empty directory.|\n",
    "| **Rename/Move file**         | `os.rename()`                      | Renames or moves a file/directory.     |\n",
    "| **Copy file**                | `shutil.copy()`                    | Copies a file to another location.     |\n",
    "| **Copy directory**           | `shutil.copytree()`                | Copies an entire directory.            |\n",
    "| **File size**                | `os.path.getsize()`                | Gets the size of a file in bytes.      |\n",
    "| **File modification time**   | `os.path.getmtime()`               | Gets the last modified time of a file. |\n",
    "\n",
    "---\n",
    "\n",
    "Let me know if you'd like to explore any of these further!\n"
   ]
  },
  {
   "cell_type": "code",
   "execution_count": null,
   "metadata": {},
   "outputs": [],
   "source": []
  }
 ],
 "metadata": {
  "kernelspec": {
   "display_name": "Python 3",
   "language": "python",
   "name": "python3"
  },
  "language_info": {
   "codemirror_mode": {
    "name": "ipython",
    "version": 3
   },
   "file_extension": ".py",
   "mimetype": "text/x-python",
   "name": "python",
   "nbconvert_exporter": "python",
   "pygments_lexer": "ipython3",
   "version": "3.11.9"
  }
 },
 "nbformat": 4,
 "nbformat_minor": 2
}
